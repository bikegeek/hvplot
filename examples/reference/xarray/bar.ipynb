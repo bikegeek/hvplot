{
 "cells": [
  {
   "cell_type": "code",
   "execution_count": null,
   "id": "5d0ed0f8-ce26-4c54-9161-d34ca73ae716",
   "metadata": {},
   "outputs": [],
   "source": [
    "import hvplot.xarray  # noqa\n",
    "import xarray as xr"
   ]
  },
  {
   "cell_type": "code",
   "execution_count": null,
   "id": "8db8fff7-b85f-49ea-b281-4a4d86e0f3ee",
   "metadata": {},
   "outputs": [],
   "source": [
    "ds = xr.tutorial.open_dataset('air_temperature').load()\n",
    "air = ds.air\n",
    "air1d = air.sel(lon=285.,lat=40.).groupby('time.month').mean()\n"
   ]
  },
  {
   "cell_type": "code",
   "execution_count": null,
   "id": "dfd1afa2-e310-4630-bd30-96e390078caf",
   "metadata": {},
   "outputs": [],
   "source": [
    "air1d.hvplot.bar(y='air', height=500, title=\"Air Temperature by Month\")"
   ]
  }
 ],
 "metadata": {
  "kernelspec": {
   "display_name": "Python 3 (ipykernel)",
   "language": "python",
   "name": "python3"
  },
  "language_info": {
   "codemirror_mode": {
    "name": "ipython",
    "version": 3
   },
   "file_extension": ".py",
   "mimetype": "text/x-python",
   "name": "python",
   "nbconvert_exporter": "python",
   "pygments_lexer": "ipython3",
   "version": "3.10.8"
  }
 },
 "nbformat": 4,
 "nbformat_minor": 5
}
